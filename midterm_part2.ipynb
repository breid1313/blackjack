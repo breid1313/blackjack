{
 "cells": [
  {
   "cell_type": "markdown",
   "metadata": {},
   "source": [
    "# PART 2 - Blackjack Game\n",
    "In this midterm project you will be creating a Complete BlackJack Card Game in Python.\n",
    "\n",
    "Here are the requirements:\n",
    "\n",
    "* You need to create a simple text-based [BlackJack](https://en.wikipedia.org/wiki/Blackjack) game\n",
    "* Video: https://www.youtube.com/watch?v=PljDuynF-j0\n",
    "* The game needs to have one player versus an automated dealer.\n",
    "* The player can stand or hit.\n",
    "* The player must be able to pick their betting amount.\n",
    "* You need to keep track of the player's total money.\n",
    "* You need to alert the player of wins, losses, or busts, etc...\n",
    "\n",
    "And most importantly:\n",
    "\n",
    "* **You must use OOP and classes in some portion of your game. You can not just use functions in your game. Use classes to help you define the Deck and the Player's hand. There are many right ways to do this, so explore it well!**\n",
    "\n",
    "* We will do code review in the future class. I will randomly call on students. So make sure you understand your code! \n",
    "\n",
    "Below is a set of steps for you to follow to try to create the Blackjack Midterm Project game!"
   ]
  },
  {
   "cell_type": "markdown",
   "metadata": {},
   "source": [
    "## Game Play\n",
    "To play a hand of Blackjack the following steps must be followed:\n",
    "1. Create a deck of 52 cards\n",
    "2. Shuffle the deck\n",
    "3. Ask the Player for their bet\n",
    "4. Make sure that the Player's bet does not exceed their available chips\n",
    "5. Deal two cards to the Dealer and two cards to the Player\n",
    "6. Show only one of the Dealer's cards, the other remains hidden\n",
    "7. Show both of the Player's cards\n",
    "8. Ask the Player if they wish to Hit, and take another card\n",
    "9. If the Player's hand doesn't Bust (go over 21), ask if they'd like to Hit again.\n",
    "10. If a Player Stands, play the Dealer's hand. The dealer will always Hit until the Dealer's value meets or exceeds 17\n",
    "11. Determine the winner and adjust the Player's chips accordingly\n",
    "12. Ask the Player if they'd like to play again"
   ]
  },
  {
   "cell_type": "markdown",
   "metadata": {},
   "source": [
    "## Playing Cards\n",
    "A standard deck of playing cards has four suits (Hearts, Diamonds, Spades and Clubs) and thirteen ranks (2 through 10, then the face cards Jack, Queen, King and Ace) for a total of 52 cards per deck. Jacks, Queens and Kings all have a rank of 10. Aces have a rank of either 11 or 1 as needed to reach 21 without busting. As a starting point in your program, you may want to assign variables to store a list of suits, ranks, and then use a dictionary to map ranks to values."
   ]
  },
  {
   "cell_type": "markdown",
   "metadata": {},
   "source": [
    "## The Game\n",
    "### Imports and Global Variables\n",
    "** Step 1: Import the random module. This will be used to shuffle the deck prior to dealing. Then, declare variables to store suits, ranks and values. You can develop your own system, or copy ours below. Finally, declare a Boolean value to be used to control <code>while</code> loops. This is a common practice used to control the flow of the game.**\n",
    "\n",
    "    suits = ('Hearts', 'Diamonds', 'Spades', 'Clubs')\n",
    "    ranks = ('Two', 'Three', 'Four', 'Five', 'Six', 'Seven', 'Eight', 'Nine', 'Ten', 'Jack', 'Queen', 'King', 'Ace')\n",
    "    values = {'Two':2, 'Three':3, 'Four':4, 'Five':5, 'Six':6, 'Seven':7, 'Eight':8, 'Nine':9, 'Ten':10, 'Jack':10,\n",
    "             'Queen':10, 'King':10, 'Ace':11}"
   ]
  },
  {
   "cell_type": "code",
   "execution_count": 38,
   "metadata": {},
   "outputs": [],
   "source": [
    "import random\n",
    "\n",
    "suits = [\"Hearts\", \"Diamonds\", \"Spades\", \"Clubs\"]\n",
    "ranks = [\n",
    "    \"Two\",\n",
    "    \"Three\",\n",
    "    \"Four\",\n",
    "    \"Five\",\n",
    "    \"Six\",\n",
    "    \"Seven\",\n",
    "    \"Eight\",\n",
    "    \"Nine\",\n",
    "    \"Ten\",\n",
    "    \"Jack\",\n",
    "    \"Queen\",\n",
    "    \"King\",\n",
    "    \"Ace\",\n",
    "]\n",
    "values = {\n",
    "    \"Two\": 2,\n",
    "    \"Three\": 3,\n",
    "    \"Four\": 4,\n",
    "    \"Five\": 5,\n",
    "    \"Six\": 6,\n",
    "    \"Seven\": 7,\n",
    "    \"Eight\": 8,\n",
    "    \"Nine\": 9,\n",
    "    \"Ten\": 10,\n",
    "    \"Jack\": 10,\n",
    "    \"Queen\": 10,\n",
    "    \"King\": 10,\n",
    "    \"Ace\": 11,\n",
    "}\n",
    "\n",
    "playing = True"
   ]
  },
  {
   "cell_type": "markdown",
   "metadata": {},
   "source": [
    "### Class Definitions\n",
    "Consider making a Card class where each Card object has a suit and a rank, then a Deck class to hold all 52 Card objects, and can be shuffled, and finally a Hand class that holds those Cards that have been dealt to each player from the Deck."
   ]
  },
  {
   "cell_type": "markdown",
   "metadata": {},
   "source": [
    "**Step 2: Create a Card Class**<br>\n",
    "A Card object really only needs two attributes: suit and rank. You might add an attribute for \"value\" - we chose to handle value later when developing our Hand class.<br>In addition to the Card's \\_\\_init\\_\\_ method, consider adding a \\_\\_str\\_\\_ method that, when asked to print a Card, returns a string in the form \"Two of Hearts\""
   ]
  },
  {
   "cell_type": "code",
   "execution_count": 39,
   "metadata": {},
   "outputs": [],
   "source": [
    "class Card:\n",
    "    def __init__(self, suit, rank, value=None):\n",
    "        self.suit = suit\n",
    "        self.rank = rank\n",
    "        self.value = value\n",
    "\n",
    "    def __str__(self):\n",
    "        return f\"<Card: {self.rank} of {self.suit}>\"\n"
   ]
  },
  {
   "cell_type": "markdown",
   "metadata": {},
   "source": [
    "**Step 3: Create a Deck Class**<br>\n",
    "Here we might store 52 card objects in a list that can later be shuffled. First, though, we need to *instantiate* all 52 unique card objects and add them to our list. So long as the Card class definition appears in our code, we can build Card objects inside our Deck \\_\\_init\\_\\_ method. Consider iterating over sequences of suits and ranks to build out each card. This might appear inside a Deck class \\_\\_init\\_\\_ method:\n",
    "\n",
    "    for suit in suits:\n",
    "        for rank in ranks:\n",
    "\n",
    "In addition to an \\_\\_init\\_\\_ method we'll want to add methods to shuffle our deck, and to deal out cards during gameplay.<br><br>\n",
    "OPTIONAL: We may never need to print the contents of the deck during gameplay, but having the ability to see the cards inside it may help troubleshoot any problems that occur during development. With this in mind, consider adding a \\_\\_str\\_\\_ method to the class definition."
   ]
  },
  {
   "cell_type": "code",
   "execution_count": 40,
   "metadata": {},
   "outputs": [],
   "source": [
    "class Deck:\n",
    "    def __init__(self):\n",
    "        self.deck = []  # start with an empty list\n",
    "        for suit in suits:\n",
    "            for rank in ranks:\n",
    "                self.deck.append(Card(suit, rank, value=values[rank]))\n",
    "\n",
    "    def __str__(self):\n",
    "        if self.deck:\n",
    "            return f\"<Deck: contains {len(self.deck)} cards. Top card: {self.deck[0]}>\"\n",
    "        return \"<Deck: empty deck>\"\n",
    "\n",
    "    def shuffle(self):\n",
    "        random.shuffle(self.deck)\n",
    "\n",
    "    def deal(self):\n",
    "        return self.deck.pop(0) if self.deck else None"
   ]
  },
  {
   "cell_type": "markdown",
   "metadata": {},
   "source": [
    "TESTING: Just to see that everything works so far, let's see what our Deck looks like!"
   ]
  },
  {
   "cell_type": "code",
   "execution_count": 41,
   "metadata": {},
   "outputs": [
    {
     "name": "stdout",
     "output_type": "stream",
     "text": [
      "<Deck: contains 52 cards. Top card: <Card: Two of Hearts>>\n"
     ]
    }
   ],
   "source": [
    "test_deck = Deck()\n",
    "print(test_deck)"
   ]
  },
  {
   "cell_type": "markdown",
   "metadata": {},
   "source": [
    "Great! Now let's move on to our Hand class."
   ]
  },
  {
   "cell_type": "markdown",
   "metadata": {},
   "source": [
    "**Step 4: Create a Hand Class**<br>\n",
    "In addition to holding Card objects dealt from the Deck, the Hand class may be used to calculate the value of those cards using the values dictionary defined above. It may also need to adjust for the value of Aces when appropriate."
   ]
  },
  {
   "cell_type": "code",
   "execution_count": 42,
   "metadata": {},
   "outputs": [],
   "source": [
    "class Hand:\n",
    "    def __init__(self):\n",
    "        self.cards = []  # start with an empty list as we did in the Deck class\n",
    "        self.value = 0  # start with zero value\n",
    "        self.aces = 0  # add an attribute to keep track of aces\n",
    "\n",
    "    def add_card(self, card):\n",
    "        self.cards.append(card)\n",
    "\n",
    "    def adjust_for_ace(self):\n",
    "        count = [card.rank for card in self.cards].count(\"Ace\")\n",
    "        while count:\n",
    "            total = sum([card.value for card in self.cards])\n",
    "            if total > 21:\n",
    "                idx = [card.rank for card in self.cards].index(\"Ace\")\n",
    "                high_ace = self.cards[idx]\n",
    "                low_ace = Card(high_ace.suit, high_ace.rank, value=1)\n",
    "                self.cards[idx] = low_ace\n",
    "            count -= 1\n",
    "\n",
    "    def score(self):\n",
    "        return sum([card.value for card in self.cards])\n",
    "\n",
    "    def __str__(self):\n",
    "        return f\"<Hand: {len(self.cards)} cards>\""
   ]
  },
  {
   "cell_type": "markdown",
   "metadata": {},
   "source": [
    "**Step 5: Create a Chips Class**<br>\n",
    "In addition to decks of cards and hands, we need to keep track of a Player's starting chips, bets, and ongoing winnings. This could be done using global variables, but in the spirit of object oriented programming, let's make a Chips class instead!"
   ]
  },
  {
   "cell_type": "code",
   "execution_count": 43,
   "metadata": {},
   "outputs": [],
   "source": [
    "class Chips:\n",
    "    def __init__(self):\n",
    "        self.total = (\n",
    "            100  # This can be set to a default value or supplied by a user input\n",
    "        )\n",
    "        self.bet = 0\n",
    "\n",
    "    def win_bet(self):\n",
    "        self.total += self.bet\n",
    "\n",
    "    def lose_bet(self):\n",
    "        self.total -= self.bet\n",
    "\n",
    "    def __str__(self):\n",
    "        return f\"<Chips: total={self.total} bet={self.bet}>\"\n",
    "\n",
    "# also adding a Player class to represent both the player and dealer\n",
    "# and track their chips/hand\n",
    "# obviously dealer chips are irrelevant\n",
    "class Player:\n",
    "    def __init__(self):\n",
    "        self.chips = Chips()\n",
    "        self.hand = Hand()"
   ]
  },
  {
   "cell_type": "markdown",
   "metadata": {},
   "source": [
    "### Function Defintions\n",
    "A lot of steps are going to be repetitive. That's where functions come in! The following steps are guidelines - add or remove functions as needed in your own program."
   ]
  },
  {
   "cell_type": "markdown",
   "metadata": {},
   "source": [
    "**Step 6: Write a function for taking bets**<br>\n",
    "Since we're asking the user for an integer value, this would be a good place to use <code>try</code>/<code>except</code>. Remember to check that a Player's bet can be covered by their available chips."
   ]
  },
  {
   "cell_type": "code",
   "execution_count": 44,
   "metadata": {},
   "outputs": [],
   "source": [
    "def take_bet(player):\n",
    "    bet = None\n",
    "    while not bet:\n",
    "        try:\n",
    "            bet = int(input(\"Make a bet \"))\n",
    "        except ValueError:\n",
    "            print(\"Enter an interget value to bet\")\n",
    "            continue\n",
    "        if bet < 1:\n",
    "            print(\"Must bet a positive amount\")\n",
    "            bet = None\n",
    "            continue\n",
    "        if bet > player.chips.total:\n",
    "            print(\n",
    "                f\"Current bet exceeds available chips. You currently cannot bet more than {player.chips.total}.\"\n",
    "            )\n",
    "            bet = None\n",
    "            continue\n",
    "        player.chips.bet = bet\n",
    "\n",
    "        return\n",
    "    "
   ]
  },
  {
   "cell_type": "markdown",
   "metadata": {},
   "source": [
    "**Step 7: Write a function for taking hits**<br>\n",
    "Either player can take hits until they bust. This function will be called during gameplay anytime a Player requests a hit, or a Dealer's hand is less than 17. It should take in Deck and Hand objects as arguments, and deal one card off the deck and add it to the Hand. You may want it to check for aces in the event that a player's hand exceeds 21."
   ]
  },
  {
   "cell_type": "code",
   "execution_count": 45,
   "metadata": {},
   "outputs": [],
   "source": [
    "def hit(deck, player):\n",
    "    player.hand.cards.append(deck.deck.pop(0))\n",
    "    # bust?\n",
    "    if player.hand.score() > 21:\n",
    "        # try and un-bust by adj for ace\n",
    "        player.hand.adjust_for_ace()\n",
    "    return"
   ]
  },
  {
   "cell_type": "markdown",
   "metadata": {},
   "source": [
    "**Step 8: Write a function prompting the Player to Hit or Stand**<br>\n",
    "This function should accept the deck and the player's hand as arguments, and assign playing as a global variable.<br>\n",
    "If the Player Hits, employ the hit() function above. If the Player Stands, set the playing variable to False - this will control the behavior of a <code>while</code> loop later on in our code."
   ]
  },
  {
   "cell_type": "code",
   "execution_count": 46,
   "metadata": {},
   "outputs": [],
   "source": [
    "def hit_or_stand(deck, player):\n",
    "    global playing  # to control an upcoming while loop\n",
    "    valid = [\"hit\", \"stand\"]\n",
    "    choice = None\n",
    "\n",
    "    while choice not in valid:\n",
    "        choice = input(\"Hit or stand? \")\n",
    "        if choice.lower() == \"hit\":\n",
    "            hit(deck, player)\n",
    "            return\n",
    "        elif choice.lower() == \"stand\":\n",
    "            playing = False\n",
    "            return\n",
    "        else:\n",
    "            print(\"invalid input. try again\")"
   ]
  },
  {
   "cell_type": "markdown",
   "metadata": {},
   "source": [
    "**Step 9: Write functions to display cards**<br>\n",
    "When the game starts, and after each time Player takes a card, the dealer's first card is hidden and all of Player's cards are visible. At the end of the hand all cards are shown, and you may want to show each hand's total value. Write a function for each of these scenarios."
   ]
  },
  {
   "cell_type": "code",
   "execution_count": 47,
   "metadata": {},
   "outputs": [],
   "source": [
    "def show_some(player, dealer):\n",
    "    print(\"player cards:\")\n",
    "    for card in player.hand.cards:\n",
    "        print(f\"    {card}\")\n",
    "\n",
    "    print(\"\\ndealer cards:\")\n",
    "    print(f\"    {dealer.hand.cards[0]}\")\n",
    "    print(f\"    <Hidden Card>\")\n",
    "\n",
    "\n",
    "def show_all(player, dealer):\n",
    "    print(\"player cards:\")\n",
    "    for card in player.hand.cards:\n",
    "        print(f\"    {card}\")\n",
    "\n",
    "    print(\"\\n dealer cards:\")\n",
    "    for card in dealer.hand.cards:\n",
    "        print(f\"    {card}\")\n"
   ]
  },
  {
   "cell_type": "markdown",
   "metadata": {},
   "source": [
    "**Step 10: Write functions to handle end of game scenarios**<br>\n",
    "Remember to pass player's hand, dealer's hand and chips as needed."
   ]
  },
  {
   "cell_type": "code",
   "execution_count": 48,
   "metadata": {},
   "outputs": [],
   "source": [
    "# wont touch hands in these, just chips\n",
    "# hands will be reset (table cleared) at the end of the loop\n",
    "\n",
    "def player_busts(player, dealer):\n",
    "    print(\"player busts!\")\n",
    "    player.chips.total -= player.chips.bet\n",
    "    player.chips.bet = 0\n",
    "\n",
    "\n",
    "def player_wins(player, dealer):\n",
    "    print(\"player wins!\")\n",
    "    player.chips.total += player.chips.bet\n",
    "    player.chips.bet = 0\n",
    "\n",
    "\n",
    "def dealer_busts(player, dealer):\n",
    "    print(\"dealer busts!\")\n",
    "    player.chips.total += player.chips.bet\n",
    "    player.chips.bet = 0\n",
    "\n",
    "\n",
    "def dealer_wins(player, dealer):\n",
    "    print(\"dealer wins!\")\n",
    "    player.chips.total -= player.chips.bet\n",
    "    player.chips.bet = 0\n",
    "\n",
    "\n",
    "def push(player, dealer):\n",
    "    print(\"push!\")\n",
    "    player.chips.bet = 0"
   ]
  },
  {
   "cell_type": "markdown",
   "metadata": {},
   "source": [
    "### And now on to the game!!"
   ]
  },
  {
   "cell_type": "code",
   "execution_count": 50,
   "metadata": {},
   "outputs": [
    {
     "name": "stdout",
     "output_type": "stream",
     "text": [
      "lets play backjack\n"
     ]
    },
    {
     "name": "stdin",
     "output_type": "stream",
     "text": [
      "Make a bet  100\n"
     ]
    },
    {
     "name": "stdout",
     "output_type": "stream",
     "text": [
      "player cards:\n",
      "    <Card: Four of Spades>\n",
      "    <Card: Nine of Hearts>\n",
      "\n",
      "dealer cards:\n",
      "    <Card: Ten of Clubs>\n",
      "    <Hidden Card>\n"
     ]
    },
    {
     "name": "stdin",
     "output_type": "stream",
     "text": [
      "Hit or stand?  stand\n"
     ]
    },
    {
     "name": "stdout",
     "output_type": "stream",
     "text": [
      "player cards:\n",
      "    <Card: Four of Spades>\n",
      "    <Card: Nine of Hearts>\n",
      "\n",
      "dealer cards:\n",
      "    <Card: Ten of Clubs>\n",
      "    <Hidden Card>\n",
      "dealer hits...\n",
      "dealer stands\n",
      "player cards:\n",
      "    <Card: Four of Spades>\n",
      "    <Card: Nine of Hearts>\n",
      "\n",
      " dealer cards:\n",
      "    <Card: Ten of Clubs>\n",
      "    <Card: Five of Spades>\n",
      "    <Card: Two of Clubs>\n",
      "dealer wins!\n",
      "New player chip total: 0\n",
      "out of money!\n"
     ]
    }
   ],
   "source": [
    "# Create & shuffle the deck, create personas\n",
    "player = Player()\n",
    "dealer = Player()\n",
    "\n",
    "deck = Deck()\n",
    "deck.shuffle()\n",
    "\n",
    "\n",
    "keep_playing = True\n",
    "while keep_playing:\n",
    "    if len(deck.deck) < 4:\n",
    "        print('not enough cards to deal!')\n",
    "        break\n",
    "    player_busted = False\n",
    "    playing = True\n",
    "    # Print an opening statement\n",
    "    print(\"lets play backjack\")\n",
    "\n",
    "    # deal\n",
    "    for _ in range(2):\n",
    "        # alternates player and dealer\n",
    "        player.hand.cards.append(deck.deck.pop(0))\n",
    "        dealer.hand.cards.append(deck.deck.pop(0))\n",
    "\n",
    "    # Set up the Player's chips\n",
    "    ### done in player __init__()\n",
    "\n",
    "    # Prompt the Player for their bet\n",
    "    take_bet(player)\n",
    "\n",
    "    # Show cards (but keep one dealer card hidden)\n",
    "    show_some(player, dealer)\n",
    "\n",
    "    while playing and len(\n",
    "        deck.deck\n",
    "    ):  # recall this variable from our hit_or_stand function\n",
    "\n",
    "        # Prompt for Player to Hit or Stand\n",
    "        hit_or_stand(deck, player)\n",
    "\n",
    "        # Show cards (but keep one dealer card hidden)\n",
    "        show_some(player, dealer)\n",
    "\n",
    "        # If player's hand exceeds 21, run player_busts() and break out of loop\n",
    "        if player.hand.score() > 21:\n",
    "            player_busts(player, dealer)\n",
    "            player_busted = True\n",
    "            break\n",
    "\n",
    "    # If Player hasn't busted, play Dealer's hand until Dealer reaches 17\n",
    "    # or the deck runs out\n",
    "    # only enter dealer play if the player didn't bust\n",
    "    while not player_busted and dealer.hand.score() < 17 and len(deck.deck):\n",
    "        print(\"dealer hits...\")\n",
    "        hit(deck, dealer)\n",
    "\n",
    "    # also dont need to score if player busted. we already scored\n",
    "    if not player_busted:\n",
    "        if not len(deck.deck):\n",
    "            print(\"Out of cards!\")\n",
    "        else:\n",
    "            print(\"dealer stands\")\n",
    "        # Show all cards\n",
    "        show_all(player, dealer)\n",
    "        # Run different winning scenarios\n",
    "        # dealer bust?\n",
    "        if dealer.hand.score() > 21:\n",
    "            dealer_busts(player, dealer)\n",
    "        # draw?\n",
    "        elif dealer.hand.score() == player.hand.score():\n",
    "            push(player, dealer)\n",
    "        # winner\n",
    "        elif dealer.hand.score() > player.hand.score():\n",
    "            dealer_wins(player, dealer)\n",
    "        else:\n",
    "            player_wins(player, dealer)\n",
    "\n",
    "    # clear out hands\n",
    "    player.hand = Hand()\n",
    "    dealer.hand = Hand()\n",
    "\n",
    "    # Inform Player of their chips total\n",
    "    print(f\"New player chip total: {player.chips.total}\")\n",
    "    \n",
    "    if player.chips.total < 1:\n",
    "        print('out of money!')\n",
    "        break\n",
    "\n",
    "    # Ask to play again\n",
    "    keep_playing = input(\"Play again? ([y]/n) \").lower() != \"n\""
   ]
  },
  {
   "cell_type": "code",
   "execution_count": null,
   "metadata": {},
   "outputs": [],
   "source": []
  }
 ],
 "metadata": {
  "kernelspec": {
   "display_name": "health_medicine",
   "language": "python",
   "name": "health_medicine"
  },
  "language_info": {
   "codemirror_mode": {
    "name": "ipython",
    "version": 3
   },
   "file_extension": ".py",
   "mimetype": "text/x-python",
   "name": "python",
   "nbconvert_exporter": "python",
   "pygments_lexer": "ipython3",
   "version": "3.9.10"
  }
 },
 "nbformat": 4,
 "nbformat_minor": 4
}
